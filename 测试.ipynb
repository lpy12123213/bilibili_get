{
 "cells": [
  {
   "cell_type": "code",
   "execution_count": 5,
   "metadata": {},
   "outputs": [],
   "source": [
    "import requests\n",
    "import subprocess\n",
    "import os\n",
    "# import pyperclip\n",
    "import re\n",
    "import logging\n"
   ]
  },
  {
   "cell_type": "code",
   "execution_count": 6,
   "metadata": {},
   "outputs": [
    {
     "data": {
      "text/plain": [
       "'\\n检测登录状态\\nhttps://api.bilibili.com/x/web-interface/nav\\n'"
      ]
     },
     "execution_count": 6,
     "metadata": {},
     "output_type": "execute_result"
    }
   ],
   "source": [
    "path = os.getcwd() + '\\\\'\n",
    "# path=r'C:\\Users\\lpy\\Desktop\\bilibili-api\\\\'\n",
    "headers = {\n",
    "    'user-agent': 'Mozilla/5.0 (Windows NT 10.0; Win64; x64) AppleWebKit/537.36 (KHTML, like Gecko) \\\n",
    "        Chrome/100.0.4896.127 Safari/537.36 Edg/100.0.1185.44',\n",
    "    'cookie': '_uuid=58E9F87D-9DF9-86910-D972-6102E4810EE72166149infoc; buvid3=C7D600BB-47C0-BCC4-9065-E11C902B271566461infoc; b_nut=1649515067; buvid4=FFAC8272-235A-96BD-D6EE-551C4D84EF7166461-022040922-+hGGnoawvNgIhx/+uEHLiElOrSLpLtIWWxgdx51sLIVZ4T78x4hr4w%3D%3D; nostalgia_conf=-1; CURRENT_BLACKGAP=0; buvid_fp_plain=undefined; blackside_state=0; rpdid=0zbfVGhipD|k9P7lIuA|1x1|3w1NDmsy; LIVE_BUVID=AUTO7716495683704445; fingerprint3=d4e5aed0143b24edfba50fc3ac142151; i-wanna-go-back=-1; CURRENT_QUALITY=80; fingerprint=c4e14d52aaa2f1a564f71c6b2d3d6c2d; SESSDATA=5afffe4d%2C1666185978%2C3c686%2A41; bili_jct=994a343f0f648982846ecb9ae5fd75a5; DedeUserID=450158456; DedeUserID__ckMd5=f1b89c51453a6646; sid=johfkykh; b_ut=5; buvid_fp=c4e14d52aaa2f1a564f71c6b2d3d6c2d; b_lsid=710E4C6F5_18051759290; bsource=search_bing; bp_video_offset_450158456=651968725507899400; PVID=1; innersign=0; CURRENT_FNVAL=80',\n",
    "}\n",
    "logging.basicConfig(\n",
    "    level=logging.INFO,\n",
    "    format='%(asctime)s %(filename)s[line:%(lineno)d] %(levelname)s %(message)s',\n",
    "    datefmt='%a, %d %b %Y %H:%M:%S',\n",
    "    filename='log.txt',\n",
    ")\n",
    "qxd = {\n",
    "    '240P': 6,\n",
    "    '360P': 16,\n",
    "    '480P': 32,\n",
    "    '720P': 64,\n",
    "    '720P60': 74,\n",
    "    '1080P': 80,\n",
    "    '1080P+': 112,\n",
    "    '1080P60': 116,\n",
    "    '4K': 120\n",
    "}\n",
    "setting = {}\n",
    "setting['qxd'] = qxd[\"1080P\"]\n",
    "sess = requests.session()\n",
    "'''\n",
    "检测登录状态\n",
    "https://api.bilibili.com/x/web-interface/nav\n",
    "'''\n"
   ]
  },
  {
   "cell_type": "code",
   "execution_count": 9,
   "metadata": {},
   "outputs": [],
   "source": [
    "def get_cid(bv):\n",
    "    __url = \"https://api.bilibili.com/x/web-interface/view\"\n",
    "    data = {\n",
    "        'bvid': bv,\n",
    "    }\n",
    "    resp = requests.get(__url, headers=headers, params=data)\n",
    "    resp.encoding = 'utf-8'\n",
    "    resp.raise_for_status()\n",
    "    json_response = resp.json()\n",
    "    return_text = []\n",
    "    # print(json_response)\n",
    "    # print(json_response['data']['ugc_season'])\n",
    "    # try:\n",
    "    for i in json_response['data']['ugc_season']['sections']:\n",
    "        logging.info(\"Title is %s\" % i['title'])\n",
    "        for j in i[\"episodes\"]:\n",
    "            return_text.append(j['cid'])\n",
    "    # except:\n",
    "    #     return_text.append(json_response['data']['cid'])\n",
    "    return return_text\n",
    "\n",
    "\n",
    "def get_video_info(bv):\n",
    "    # 获取视频信息\n",
    "    cidlist = get_cid(bv)\n",
    "    if len(cidlist) == 1:\n",
    "        cid = cidlist[0]\n",
    "        _url = 'http://api.bilibili.com/x/player/playurl'\n",
    "        _params = {\n",
    "            'bvid': bv,\n",
    "            'cid': cid,\n",
    "            'fnval': '16',\n",
    "        }\n",
    "        session = sess\n",
    "        response = session.get(_url, params=_params, headers=headers)\n",
    "        response.encoding = 'utf-8'\n",
    "        response.raise_for_status()\n",
    "        resp = response.json()\n",
    "        logging.info('The video\\'s info is {}'.format(resp))\n",
    "        return resp\n",
    "    else:\n",
    "        cid1 = cidlist\n",
    "        retlist = []\n",
    "        for cid in cid1:\n",
    "            _url = 'http://api.bilibili.com/x/player/playurl'\n",
    "            _params = {\n",
    "                'bvid': bv,\n",
    "                'cid': cid,\n",
    "                'fnval': '16',\n",
    "            }\n",
    "            session = sess\n",
    "            response = session.get(_url, params=_params, headers=headers)\n",
    "            response.encoding = 'utf-8'\n",
    "            response.raise_for_status()\n",
    "            resp = response.json()\n",
    "            retlist.append(resp)\n",
    "        logging.info('The video\\'s info is {}'.format(retlist))\n",
    "        return retlist\n"
   ]
  },
  {
   "cell_type": "code",
   "execution_count": 10,
   "metadata": {},
   "outputs": [
    {
     "name": "stdout",
     "output_type": "stream",
     "text": [
      "{'id': 471, 'title': '思维论与人工智能', 'cover': 'https://i0.hdslb.com/bfs/archive/7c1f2225d99dd3e953a994cf0e64b6149b15076f.jpg', 'mid': 371846699, 'intro': '一切关于算法与思维的知识，以及我提出的人工智能反射理论', 'sign_state': 0, 'attribute': 132, 'sections': [{'season_id': 471, 'id': 836, 'title': '正片', 'type': 1, 'episodes': [{'season_id': 471, 'section_id': 836, 'id': 6346136, 'aid': 812026767, 'cid': 734378777, 'title': '爬遍全网数据，我用AI预测了2022年高考作文题【图灵计划02】', 'attribute': 0, 'arc': {'aid': 812026767, 'videos': 0, 'type_id': 0, 'type_name': '', 'copyright': 0, 'pic': 'http://i2.hdslb.com/bfs/archive/0bcf577fe2538a16a183d9f71d859acc351cfd34.jpg', 'title': '爬遍全网数据，我用AI预测了2022年高考作文题【图灵计划02】', 'pubdate': 1653967978, 'ctime': 1653967978, 'desc': '', 'state': 0, 'duration': 205, 'rights': {'bp': 0, 'elec': 0, 'download': 0, 'movie': 0, 'pay': 0, 'hd5': 0, 'no_reprint': 0, 'autoplay': 0, 'ugc_pay': 0, 'is_cooperation': 0, 'ugc_pay_preview': 0, 'arc_pay': 0, 'free_watch': 0}, 'author': {'mid': 0, 'name': '', 'face': ''}, 'stat': {'aid': 812026767, 'view': 351589, 'danmaku': 1701, 'reply': 1163, 'fav': 21231, 'coin': 9137, 'share': 7339, 'now_rank': 0, 'his_rank': 0, 'like': 28862, 'dislike': 0, 'evaluation': '', 'argue_msg': ''}, 'dynamic': '', 'dimension': {'width': 0, 'height': 0, 'rotate': 0}, 'desc_v2': None, 'is_chargeable_season': False}, 'page': {'cid': 734378777, 'page': 1, 'from': 'vupload', 'part': 'B站视频', 'duration': 205, 'vid': '', 'weblink': '', 'dimension': {'width': 1920, 'height': 1080, 'rotate': 0}}, 'bvid': 'BV1j34y177Wz'}, {'season_id': 471, 'section_id': 836, 'id': 4305106, 'aid': 853346711, 'cid': 579076314, 'title': '一个能自动写小说的网站【图灵计划01】', 'attribute': 0, 'arc': {'aid': 853346711, 'videos': 0, 'type_id': 0, 'type_name': '', 'copyright': 0, 'pic': 'http://i2.hdslb.com/bfs/archive/6350544491a5b736e19865f6e8d4196a9050efa6.jpg', 'title': '一个能自动写小说的网站【图灵计划01】', 'pubdate': 1650269715, 'ctime': 1650269715, 'desc': '', 'state': 0, 'duration': 393, 'rights': {'bp': 0, 'elec': 0, 'download': 0, 'movie': 0, 'pay': 0, 'hd5': 0, 'no_reprint': 0, 'autoplay': 0, 'ugc_pay': 0, 'is_cooperation': 0, 'ugc_pay_preview': 0, 'arc_pay': 0, 'free_watch': 0}, 'author': {'mid': 0, 'name': '', 'face': ''}, 'stat': {'aid': 853346711, 'view': 194005, 'danmaku': 895, 'reply': 1194, 'fav': 16869, 'coin': 7779, 'share': 3992, 'now_rank': 0, 'his_rank': 0, 'like': 17188, 'dislike': 0, 'evaluation': '', 'argue_msg': ''}, 'dynamic': '', 'dimension': {'width': 0, 'height': 0, 'rotate': 0}, 'desc_v2': None, 'is_chargeable_season': False}, 'page': {'cid': 579076314, 'page': 1, 'from': 'vupload', 'part': '文心输出', 'duration': 393, 'vid': '', 'weblink': '', 'dimension': {'width': 1920, 'height': 1080, 'rotate': 0}}, 'bvid': 'BV1gL4y1V7b9'}, {'season_id': 471, 'section_id': 836, 'id': 1405232, 'aid': 978005831, 'cid': 479636323, 'title': '当我用AI在网上冒充人类答题...', 'attribute': 0, 'arc': {'aid': 978005831, 'videos': 0, 'type_id': 0, 'type_name': '', 'copyright': 0, 'pic': 'http://i0.hdslb.com/bfs/archive/e5b8c0daba6ddf818a326c1049d2c5ef6ce32265.jpg', 'title': '当我用AI在网上冒充人类答题...', 'pubdate': 1641607213, 'ctime': 1641607213, 'desc': '', 'state': 0, 'duration': 260, 'rights': {'bp': 0, 'elec': 0, 'download': 0, 'movie': 0, 'pay': 0, 'hd5': 0, 'no_reprint': 0, 'autoplay': 0, 'ugc_pay': 0, 'is_cooperation': 0, 'ugc_pay_preview': 0, 'arc_pay': 0, 'free_watch': 0}, 'author': {'mid': 0, 'name': '', 'face': ''}, 'stat': {'aid': 978005831, 'view': 122832, 'danmaku': 413, 'reply': 539, 'fav': 2969, 'coin': 1979, 'share': 273, 'now_rank': 0, 'his_rank': 0, 'like': 8388, 'dislike': 0, 'evaluation': '', 'argue_msg': ''}, 'dynamic': '', 'dimension': {'width': 0, 'height': 0, 'rotate': 0}, 'desc_v2': None, 'is_chargeable_season': False}, 'page': {'cid': 479636323, 'page': 1, 'from': 'vupload', 'part': 'B站专用2', 'duration': 260, 'vid': '', 'weblink': '', 'dimension': {'width': 1920, 'height': 1080, 'rotate': 0}}, 'bvid': 'BV1144y1j7vZ'}, {'season_id': 471, 'section_id': 836, 'id': 17349, 'aid': 587758885, 'cid': 331846482, 'title': '不喜欢学习，真的等于不会学习吗？元学习的秘密', 'attribute': 0, 'arc': {'aid': 587758885, 'videos': 0, 'type_id': 0, 'type_name': '', 'copyright': 0, 'pic': 'http://i1.hdslb.com/bfs/archive/358930fdf78e3085683bce4d2f9b8e8d628407cb.jpg', 'title': '不喜欢学习，真的等于不会学习吗？元学习的秘密', 'pubdate': 1619855501, 'ctime': 1619855501, 'desc': '', 'state': 0, 'duration': 512, 'rights': {'bp': 0, 'elec': 0, 'download': 0, 'movie': 0, 'pay': 0, 'hd5': 0, 'no_reprint': 0, 'autoplay': 0, 'ugc_pay': 0, 'is_cooperation': 0, 'ugc_pay_preview': 0, 'arc_pay': 0, 'free_watch': 0}, 'author': {'mid': 0, 'name': '', 'face': ''}, 'stat': {'aid': 587758885, 'view': 516449, 'danmaku': 1000, 'reply': 1085, 'fav': 44278, 'coin': 19376, 'share': 4573, 'now_rank': 0, 'his_rank': 0, 'like': 34116, 'dislike': 0, 'evaluation': '', 'argue_msg': ''}, 'dynamic': '', 'dimension': {'width': 0, 'height': 0, 'rotate': 0}, 'desc_v2': None, 'is_chargeable_season': False}, 'page': {'cid': 331846482, 'page': 1, 'from': 'vupload', 'part': 'final_2', 'duration': 512, 'vid': '', 'weblink': '', 'dimension': {'width': 1920, 'height': 1080, 'rotate': 0}}, 'bvid': 'BV1KB4y1c7gg'}, {'season_id': 471, 'section_id': 836, 'id': 12066, 'aid': 373031789, 'cid': 263578617, 'title': '我们的生活正被算法吞噬？如何对抗算法', 'attribute': 0, 'arc': {'aid': 373031789, 'videos': 0, 'type_id': 0, 'type_name': '', 'copyright': 0, 'pic': 'http://i0.hdslb.com/bfs/archive/99c395fcd8a57806ddf1ab814a19f355a01af25b.jpg', 'title': '我们的生活正被算法吞噬？如何对抗算法', 'pubdate': 1607232441, 'ctime': 1607232441, 'desc': '', 'state': 0, 'duration': 617, 'rights': {'bp': 0, 'elec': 0, 'download': 0, 'movie': 0, 'pay': 0, 'hd5': 0, 'no_reprint': 0, 'autoplay': 0, 'ugc_pay': 0, 'is_cooperation': 0, 'ugc_pay_preview': 0, 'arc_pay': 0, 'free_watch': 0}, 'author': {'mid': 0, 'name': '', 'face': ''}, 'stat': {'aid': 373031789, 'view': 232285, 'danmaku': 3327, 'reply': 547, 'fav': 12076, 'coin': 12800, 'share': 3844, 'now_rank': 0, 'his_rank': 0, 'like': 18424, 'dislike': 0, 'evaluation': '', 'argue_msg': ''}, 'dynamic': '', 'dimension': {'width': 0, 'height': 0, 'rotate': 0}, 'desc_v2': None, 'is_chargeable_season': False}, 'page': {'cid': 263578617, 'page': 1, 'from': 'vupload', 'part': '无标题3', 'duration': 617, 'vid': '', 'weblink': '', 'dimension': {'width': 1920, 'height': 1080, 'rotate': 0}}, 'bvid': 'BV1LZ4y1g7tG'}, {'season_id': 471, 'section_id': 836, 'id': 12050, 'aid': 755124609, 'cid': 249390460, 'title': '我开发了一个会写作文的人工智能', 'attribute': 0, 'arc': {'aid': 755124609, 'videos': 0, 'type_id': 0, 'type_name': '', 'copyright': 0, 'pic': 'http://i0.hdslb.com/bfs/archive/e2fabdd3d996e449dd30478ddb50810d0ba85c0a.jpg', 'title': '我开发了一个会写作文的人工智能', 'pubdate': 1603617334, 'ctime': 1603617334, 'desc': '', 'state': 0, 'duration': 392, 'rights': {'bp': 0, 'elec': 0, 'download': 0, 'movie': 0, 'pay': 0, 'hd5': 0, 'no_reprint': 0, 'autoplay': 0, 'ugc_pay': 0, 'is_cooperation': 0, 'ugc_pay_preview': 0, 'arc_pay': 0, 'free_watch': 0}, 'author': {'mid': 0, 'name': '', 'face': ''}, 'stat': {'aid': 755124609, 'view': 610449, 'danmaku': 1268, 'reply': 1234, 'fav': 27486, 'coin': 28926, 'share': 7850, 'now_rank': 0, 'his_rank': 0, 'like': 38420, 'dislike': 0, 'evaluation': '', 'argue_msg': ''}, 'dynamic': '', 'dimension': {'width': 0, 'height': 0, 'rotate': 0}, 'desc_v2': None, 'is_chargeable_season': False}, 'page': {'cid': 249390460, 'page': 1, 'from': 'vupload', 'part': 'EssayKiller作文生成', 'duration': 392, 'vid': '', 'weblink': '', 'dimension': {'width': 1920, 'height': 1080, 'rotate': 0}}, 'bvid': 'BV1pr4y1w7uM'}, {'season_id': 471, 'section_id': 836, 'id': 12041, 'aid': 415163704, 'cid': 253692070, 'title': '从丧到佛，这代年轻人经历了什么？', 'attribute': 0, 'arc': {'aid': 415163704, 'videos': 0, 'type_id': 0, 'type_name': '', 'copyright': 0, 'pic': 'http://i0.hdslb.com/bfs/archive/92be4eec8537f1e34a248aa52f9c2ed082e52a9a.jpg', 'title': '从丧到佛，这代年轻人经历了什么？', 'pubdate': 1604805239, 'ctime': 1604805239, 'desc': '', 'state': 0, 'duration': 649, 'rights': {'bp': 0, 'elec': 0, 'download': 0, 'movie': 0, 'pay': 0, 'hd5': 0, 'no_reprint': 0, 'autoplay': 0, 'ugc_pay': 0, 'is_cooperation': 0, 'ugc_pay_preview': 0, 'arc_pay': 0, 'free_watch': 0}, 'author': {'mid': 0, 'name': '', 'face': ''}, 'stat': {'aid': 415163704, 'view': 387877, 'danmaku': 3757, 'reply': 1219, 'fav': 14635, 'coin': 24172, 'share': 7297, 'now_rank': 0, 'his_rank': 0, 'like': 30286, 'dislike': 0, 'evaluation': '', 'argue_msg': ''}, 'dynamic': '', 'dimension': {'width': 0, 'height': 0, 'rotate': 0}, 'desc_v2': None, 'is_chargeable_season': False}, 'page': {'cid': 253692070, 'page': 1, 'from': 'vupload', 'part': 'final', 'duration': 649, 'vid': '', 'weblink': '', 'dimension': {'width': 1920, 'height': 1080, 'rotate': 0}}, 'bvid': 'BV1RV411y7yk'}, {'season_id': 471, 'section_id': 836, 'id': 12046, 'aid': 90604150, 'cid': 154733289, 'title': '如何让自己像刷B站/抖音一样沉迷学习', 'attribute': 0, 'arc': {'aid': 90604150, 'videos': 0, 'type_id': 0, 'type_name': '', 'copyright': 0, 'pic': 'http://i1.hdslb.com/bfs/archive/e72e84a6af567959f7ce16c45434c082045b1da3.jpg', 'title': '如何让自己像刷B站/抖音一样沉迷学习', 'pubdate': 1582276546, 'ctime': 1582276546, 'desc': '', 'state': 0, 'duration': 701, 'rights': {'bp': 0, 'elec': 0, 'download': 0, 'movie': 0, 'pay': 0, 'hd5': 0, 'no_reprint': 0, 'autoplay': 0, 'ugc_pay': 0, 'is_cooperation': 0, 'ugc_pay_preview': 0, 'arc_pay': 0, 'free_watch': 0}, 'author': {'mid': 0, 'name': '', 'face': ''}, 'stat': {'aid': 90604150, 'view': 452637, 'danmaku': 3457, 'reply': 1314, 'fav': 38502, 'coin': 24197, 'share': 4405, 'now_rank': 0, 'his_rank': 0, 'like': 40941, 'dislike': 0, 'evaluation': '', 'argue_msg': ''}, 'dynamic': '', 'dimension': {'width': 0, 'height': 0, 'rotate': 0}, 'desc_v2': None, 'is_chargeable_season': False}, 'page': {'cid': 154733289, 'page': 1, 'from': 'vupload', 'part': 'Capture', 'duration': 701, 'vid': '', 'weblink': '', 'dimension': {'width': 1216, 'height': 696, 'rotate': 0}}, 'bvid': 'BV117411w7PR'}, {'season_id': 471, 'section_id': 836, 'id': 12049, 'aid': 83895512, 'cid': 143501561, 'title': '如何让自己像打王者荣耀一样发了疯的学习', 'attribute': 0, 'arc': {'aid': 83895512, 'videos': 0, 'type_id': 0, 'type_name': '', 'copyright': 0, 'pic': 'http://i2.hdslb.com/bfs/archive/88c15045b709986d6f2b66f8a269082b76398d93.jpg', 'title': '如何让自己像打王者荣耀一样发了疯的学习', 'pubdate': 1579278556, 'ctime': 1579278556, 'desc': '', 'state': 0, 'duration': 646, 'rights': {'bp': 0, 'elec': 0, 'download': 0, 'movie': 0, 'pay': 0, 'hd5': 0, 'no_reprint': 0, 'autoplay': 0, 'ugc_pay': 0, 'is_cooperation': 0, 'ugc_pay_preview': 0, 'arc_pay': 0, 'free_watch': 0}, 'author': {'mid': 0, 'name': '', 'face': ''}, 'stat': {'aid': 83895512, 'view': 549021, 'danmaku': 2882, 'reply': 1756, 'fav': 38915, 'coin': 28606, 'share': 7177, 'now_rank': 0, 'his_rank': 0, 'like': 39612, 'dislike': 0, 'evaluation': '', 'argue_msg': ''}, 'dynamic': '', 'dimension': {'width': 0, 'height': 0, 'rotate': 0}, 'desc_v2': None, 'is_chargeable_season': False}, 'page': {'cid': 143501561, 'page': 1, 'from': 'vupload', 'part': '【思维论01】如何让自己像打王者荣耀一样发了疯、石乐志一般地学习？', 'duration': 646, 'vid': '', 'weblink': '', 'dimension': {'width': 1920, 'height': 1080, 'rotate': 0}}, 'bvid': 'BV1a7411i7tc'}, {'season_id': 471, 'section_id': 836, 'id': 12044, 'aid': 582816224, 'cid': 179476633, 'title': '如何成为一个很厉害的人？', 'attribute': 0, 'arc': {'aid': 582816224, 'videos': 0, 'type_id': 0, 'type_name': '', 'copyright': 0, 'pic': 'http://i1.hdslb.com/bfs/archive/6490faa016aa2a653b7c4186ddedefb8ae982ed4.jpg', 'title': '如何成为一个很厉害的人？', 'pubdate': 1587104884, 'ctime': 1587104884, 'desc': '', 'state': 0, 'duration': 590, 'rights': {'bp': 0, 'elec': 0, 'download': 0, 'movie': 0, 'pay': 0, 'hd5': 0, 'no_reprint': 0, 'autoplay': 0, 'ugc_pay': 0, 'is_cooperation': 0, 'ugc_pay_preview': 0, 'arc_pay': 0, 'free_watch': 0}, 'author': {'mid': 0, 'name': '', 'face': ''}, 'stat': {'aid': 582816224, 'view': 2670259, 'danmaku': 18118, 'reply': 3381, 'fav': 222279, 'coin': 128149, 'share': 30366, 'now_rank': 0, 'his_rank': 83, 'like': 173984, 'dislike': 0, 'evaluation': '', 'argue_msg': ''}, 'dynamic': '', 'dimension': {'width': 0, 'height': 0, 'rotate': 0}, 'desc_v2': None, 'is_chargeable_season': False}, 'page': {'cid': 179476633, 'page': 1, 'from': 'vupload', 'part': '第9期final_全平台', 'duration': 590, 'vid': '', 'weblink': '', 'dimension': {'width': 1920, 'height': 1098, 'rotate': 0}}, 'bvid': 'BV1164y1T7VD'}, {'season_id': 471, 'section_id': 836, 'id': 12042, 'aid': 583265881, 'cid': 197630858, 'title': '你真的了解拖延症吗？', 'attribute': 0, 'arc': {'aid': 583265881, 'videos': 0, 'type_id': 0, 'type_name': '', 'copyright': 0, 'pic': 'http://i0.hdslb.com/bfs/archive/eb0bc8e3aba769b9e623243dcf6c30477de1067c.jpg', 'title': '你真的了解拖延症吗？', 'pubdate': 1590933599, 'ctime': 1590933599, 'desc': '', 'state': 0, 'duration': 547, 'rights': {'bp': 0, 'elec': 0, 'download': 0, 'movie': 0, 'pay': 0, 'hd5': 0, 'no_reprint': 0, 'autoplay': 0, 'ugc_pay': 0, 'is_cooperation': 0, 'ugc_pay_preview': 0, 'arc_pay': 0, 'free_watch': 0}, 'author': {'mid': 0, 'name': '', 'face': ''}, 'stat': {'aid': 583265881, 'view': 208583, 'danmaku': 1477, 'reply': 268, 'fav': 7584, 'coin': 6981, 'share': 1389, 'now_rank': 0, 'his_rank': 0, 'like': 10292, 'dislike': 0, 'evaluation': '', 'argue_msg': ''}, 'dynamic': '', 'dimension': {'width': 0, 'height': 0, 'rotate': 0}, 'desc_v2': None, 'is_chargeable_season': False}, 'page': {'cid': 197630858, 'page': 1, 'from': 'vupload', 'part': '第11期final', 'duration': 547, 'vid': '', 'weblink': '', 'dimension': {'width': 1920, 'height': 1080, 'rotate': 0}}, 'bvid': 'BV1xz4y1d7TZ'}, {'season_id': 471, 'section_id': 836, 'id': 12043, 'aid': 968220526, 'cid': 192073132, 'title': '人类如何实现永生？', 'attribute': 0, 'arc': {'aid': 968220526, 'videos': 0, 'type_id': 0, 'type_name': '', 'copyright': 0, 'pic': 'http://i2.hdslb.com/bfs/archive/49ac6a434b62656cf70806bd3e41137ae35729d2.jpg', 'title': '人类如何实现永生？', 'pubdate': 1589708995, 'ctime': 1589708995, 'desc': '', 'state': 0, 'duration': 559, 'rights': {'bp': 0, 'elec': 0, 'download': 0, 'movie': 0, 'pay': 0, 'hd5': 0, 'no_reprint': 0, 'autoplay': 0, 'ugc_pay': 0, 'is_cooperation': 0, 'ugc_pay_preview': 0, 'arc_pay': 0, 'free_watch': 0}, 'author': {'mid': 0, 'name': '', 'face': ''}, 'stat': {'aid': 968220526, 'view': 162076, 'danmaku': 678, 'reply': 908, 'fav': 3270, 'coin': 3143, 'share': 553, 'now_rank': 0, 'his_rank': 0, 'like': 7506, 'dislike': 0, 'evaluation': '', 'argue_msg': ''}, 'dynamic': '', 'dimension': {'width': 0, 'height': 0, 'rotate': 0}, 'desc_v2': None, 'is_chargeable_season': False}, 'page': {'cid': 192073132, 'page': 1, 'from': 'vupload', 'part': 'final', 'duration': 559, 'vid': '', 'weblink': '', 'dimension': {'width': 1920, 'height': 1080, 'rotate': 0}}, 'bvid': 'BV1zp4y1Q7To'}, {'season_id': 471, 'section_id': 836, 'id': 12045, 'aid': 540019742, 'cid': 173108527, 'title': '一边听歌一边学习，真的科学吗？', 'attribute': 0, 'arc': {'aid': 540019742, 'videos': 0, 'type_id': 0, 'type_name': '', 'copyright': 0, 'pic': 'http://i2.hdslb.com/bfs/archive/fa296d6d6c5ebf645d7401ee2ab9d730a42d0530.jpg', 'title': '一边听歌一边学习，真的科学吗？', 'pubdate': 1585847989, 'ctime': 1585847989, 'desc': '', 'state': 0, 'duration': 450, 'rights': {'bp': 0, 'elec': 0, 'download': 0, 'movie': 0, 'pay': 0, 'hd5': 0, 'no_reprint': 0, 'autoplay': 0, 'ugc_pay': 0, 'is_cooperation': 0, 'ugc_pay_preview': 0, 'arc_pay': 0, 'free_watch': 0}, 'author': {'mid': 0, 'name': '', 'face': ''}, 'stat': {'aid': 540019742, 'view': 201719, 'danmaku': 1262, 'reply': 1540, 'fav': 7744, 'coin': 4569, 'share': 950, 'now_rank': 0, 'his_rank': 0, 'like': 13144, 'dislike': 0, 'evaluation': '', 'argue_msg': ''}, 'dynamic': '', 'dimension': {'width': 0, 'height': 0, 'rotate': 0}, 'desc_v2': None, 'is_chargeable_season': False}, 'page': {'cid': 173108527, 'page': 1, 'from': 'vupload', 'part': '第8期-B站', 'duration': 450, 'vid': '', 'weblink': '', 'dimension': {'width': 1920, 'height': 1098, 'rotate': 0}}, 'bvid': 'BV14i4y1b7ui'}, {'season_id': 471, 'section_id': 836, 'id': 12048, 'aid': 86013694, 'cid': 147019067, 'title': '为什么看答案会影响做题效果？', 'attribute': 0, 'arc': {'aid': 86013694, 'videos': 0, 'type_id': 0, 'type_name': '', 'copyright': 0, 'pic': 'http://i1.hdslb.com/bfs/archive/0b2acf8cdad4e629e2dc9cceafa8edd74c85b756.jpg', 'title': '为什么看答案会影响做题效果？', 'pubdate': 1580489383, 'ctime': 1580489383, 'desc': '', 'state': 0, 'duration': 701, 'rights': {'bp': 0, 'elec': 0, 'download': 0, 'movie': 0, 'pay': 0, 'hd5': 0, 'no_reprint': 0, 'autoplay': 0, 'ugc_pay': 0, 'is_cooperation': 0, 'ugc_pay_preview': 0, 'arc_pay': 0, 'free_watch': 0}, 'author': {'mid': 0, 'name': '', 'face': ''}, 'stat': {'aid': 86013694, 'view': 184640, 'danmaku': 885, 'reply': 389, 'fav': 10644, 'coin': 8487, 'share': 1771, 'now_rank': 0, 'his_rank': 0, 'like': 12225, 'dislike': 0, 'evaluation': '', 'argue_msg': ''}, 'dynamic': '', 'dimension': {'width': 0, 'height': 0, 'rotate': 0}, 'desc_v2': None, 'is_chargeable_season': False}, 'page': {'cid': 147019067, 'page': 1, 'from': 'vupload', 'part': '【思维论02】为什么看答案会影响做题效果？', 'duration': 701, 'vid': '', 'weblink': '', 'dimension': {'width': 1920, 'height': 1080, 'rotate': 0}}, 'bvid': 'BV1C7411s7Y2'}]}, {'season_id': 471, 'id': 837, 'title': '人文与科普', 'type': 0, 'episodes': [{'season_id': 471, 'section_id': 837, 'id': 12052, 'aid': 541039852, 'cid': 203920154, 'title': '如何在28岁就实现财务自由？', 'attribute': 0, 'arc': {'aid': 541039852, 'videos': 0, 'type_id': 0, 'type_name': '', 'copyright': 0, 'pic': 'http://i1.hdslb.com/bfs/archive/3d44e5707aa10c15d6c2f0422271cf13a4c1dc6b.jpg', 'title': '如何在28岁就实现财务自由？', 'pubdate': 1592649618, 'ctime': 1592649618, 'desc': '', 'state': 0, 'duration': 399, 'rights': {'bp': 0, 'elec': 0, 'download': 0, 'movie': 0, 'pay': 0, 'hd5': 0, 'no_reprint': 0, 'autoplay': 0, 'ugc_pay': 0, 'is_cooperation': 0, 'ugc_pay_preview': 0, 'arc_pay': 0, 'free_watch': 0}, 'author': {'mid': 0, 'name': '', 'face': ''}, 'stat': {'aid': 541039852, 'view': 151868, 'danmaku': 447, 'reply': 965, 'fav': 3467, 'coin': 4617, 'share': 1576, 'now_rank': 0, 'his_rank': 0, 'like': 8360, 'dislike': 0, 'evaluation': '', 'argue_msg': ''}, 'dynamic': '', 'dimension': {'width': 0, 'height': 0, 'rotate': 0}, 'desc_v2': None, 'is_chargeable_season': False}, 'page': {'cid': 203920154, 'page': 1, 'from': 'vupload', 'part': '无标题1_1', 'duration': 399, 'vid': '', 'weblink': '', 'dimension': {'width': 1920, 'height': 1080, 'rotate': 0}}, 'bvid': 'BV1ii4y1x7yH'}, {'season_id': 471, 'section_id': 837, 'id': 12053, 'aid': 498454798, 'cid': 200437748, 'title': '「王小波」一个IT男的黄金时代', 'attribute': 0, 'arc': {'aid': 498454798, 'videos': 0, 'type_id': 0, 'type_name': '', 'copyright': 0, 'pic': 'http://i0.hdslb.com/bfs/archive/2fa0f2a6a39cd63e7b4d510d94b0921863ffdf14.jpg', 'title': '「王小波」一个IT男的黄金时代', 'pubdate': 1591847429, 'ctime': 1591847429, 'desc': '', 'state': 0, 'duration': 641, 'rights': {'bp': 0, 'elec': 0, 'download': 0, 'movie': 0, 'pay': 0, 'hd5': 0, 'no_reprint': 0, 'autoplay': 0, 'ugc_pay': 0, 'is_cooperation': 0, 'ugc_pay_preview': 0, 'arc_pay': 0, 'free_watch': 0}, 'author': {'mid': 0, 'name': '', 'face': ''}, 'stat': {'aid': 498454798, 'view': 300580, 'danmaku': 1886, 'reply': 660, 'fav': 10994, 'coin': 12808, 'share': 4944, 'now_rank': 0, 'his_rank': 0, 'like': 19012, 'dislike': 0, 'evaluation': '', 'argue_msg': ''}, 'dynamic': '', 'dimension': {'width': 0, 'height': 0, 'rotate': 0}, 'desc_v2': None, 'is_chargeable_season': False}, 'page': {'cid': 200437748, 'page': 1, 'from': 'vupload', 'part': 'final', 'duration': 641, 'vid': '', 'weblink': '', 'dimension': {'width': 1920, 'height': 1080, 'rotate': 0}}, 'bvid': 'BV1EK411p7m7'}, {'season_id': 471, 'section_id': 837, 'id': 12054, 'aid': 285301096, 'cid': 179440149, 'title': 'PanDownload深度思考', 'attribute': 0, 'arc': {'aid': 285301096, 'videos': 0, 'type_id': 0, 'type_name': '', 'copyright': 0, 'pic': 'http://i0.hdslb.com/bfs/archive/cab3bea43962cabbaaa0e4cf6360f5615920ab0a.jpg', 'title': 'PanDownload深度思考', 'pubdate': 1587051539, 'ctime': 1587051539, 'desc': '', 'state': 0, 'duration': 369, 'rights': {'bp': 0, 'elec': 0, 'download': 0, 'movie': 0, 'pay': 0, 'hd5': 0, 'no_reprint': 0, 'autoplay': 0, 'ugc_pay': 0, 'is_cooperation': 0, 'ugc_pay_preview': 0, 'arc_pay': 0, 'free_watch': 0}, 'author': {'mid': 0, 'name': '', 'face': ''}, 'stat': {'aid': 285301096, 'view': 940320, 'danmaku': 13408, 'reply': 16112, 'fav': 22762, 'coin': 59612, 'share': 13022, 'now_rank': 0, 'his_rank': 40, 'like': 91862, 'dislike': 0, 'evaluation': '', 'argue_msg': ''}, 'dynamic': '', 'dimension': {'width': 0, 'height': 0, 'rotate': 0}, 'desc_v2': None, 'is_chargeable_season': False}, 'page': {'cid': 179440149, 'page': 1, 'from': 'vupload', 'part': 'final_2', 'duration': 369, 'vid': '', 'weblink': '', 'dimension': {'width': 1920, 'height': 1080, 'rotate': 0}}, 'bvid': 'BV1Rf4y1U778'}, {'season_id': 471, 'section_id': 837, 'id': 12055, 'aid': 98148655, 'cid': 167541159, 'title': '如何像阿尔法狗一样高效学习?', 'attribute': 0, 'arc': {'aid': 98148655, 'videos': 0, 'type_id': 0, 'type_name': '', 'copyright': 0, 'pic': 'http://i2.hdslb.com/bfs/archive/47e63ae16f54085d9858d3fafc716063571cf90a.jpg', 'title': '如何像阿尔法狗一样高效学习?', 'pubdate': 1584817798, 'ctime': 1584817798, 'desc': '', 'state': 0, 'duration': 537, 'rights': {'bp': 0, 'elec': 0, 'download': 0, 'movie': 0, 'pay': 0, 'hd5': 0, 'no_reprint': 0, 'autoplay': 0, 'ugc_pay': 0, 'is_cooperation': 0, 'ugc_pay_preview': 0, 'arc_pay': 0, 'free_watch': 0}, 'author': {'mid': 0, 'name': '', 'face': ''}, 'stat': {'aid': 98148655, 'view': 88189, 'danmaku': 184, 'reply': 132, 'fav': 3117, 'coin': 2307, 'share': 426, 'now_rank': 0, 'his_rank': 0, 'like': 4292, 'dislike': 0, 'evaluation': '', 'argue_msg': ''}, 'dynamic': '', 'dimension': {'width': 0, 'height': 0, 'rotate': 0}, 'desc_v2': None, 'is_chargeable_season': False}, 'page': {'cid': 167541159, 'page': 1, 'from': 'vupload', 'part': 'Capture', 'duration': 537, 'vid': '', 'weblink': '', 'dimension': {'width': 1216, 'height': 696, 'rotate': 0}}, 'bvid': 'BV1VE411w7Ug'}, {'season_id': 471, 'section_id': 837, 'id': 12056, 'aid': 94073814, 'cid': 160598529, 'title': '彻底戒掉手机 专注学习的思维方法', 'attribute': 0, 'arc': {'aid': 94073814, 'videos': 0, 'type_id': 0, 'type_name': '', 'copyright': 0, 'pic': 'http://i0.hdslb.com/bfs/archive/4bd040218fce2dcbec9987934c9483d09550af60.jpg', 'title': '彻底戒掉手机 专注学习的思维方法', 'pubdate': 1583500822, 'ctime': 1583500822, 'desc': '', 'state': 0, 'duration': 611, 'rights': {'bp': 0, 'elec': 0, 'download': 0, 'movie': 0, 'pay': 0, 'hd5': 0, 'no_reprint': 0, 'autoplay': 0, 'ugc_pay': 0, 'is_cooperation': 0, 'ugc_pay_preview': 0, 'arc_pay': 0, 'free_watch': 0}, 'author': {'mid': 0, 'name': '', 'face': ''}, 'stat': {'aid': 94073814, 'view': 104884, 'danmaku': 666, 'reply': 373, 'fav': 5813, 'coin': 4398, 'share': 857, 'now_rank': 0, 'his_rank': 0, 'like': 6813, 'dislike': 0, 'evaluation': '', 'argue_msg': ''}, 'dynamic': '', 'dimension': {'width': 0, 'height': 0, 'rotate': 0}, 'desc_v2': None, 'is_chargeable_season': False}, 'page': {'cid': 160598529, 'page': 1, 'from': 'vupload', 'part': '第6期final', 'duration': 611, 'vid': '', 'weblink': '', 'dimension': {'width': 1216, 'height': 696, 'rotate': 0}}, 'bvid': 'BV1gE411s7jB'}, {'season_id': 471, 'section_id': 837, 'id': 12057, 'aid': 92849660, 'cid': 158524379, 'title': '人类能否造出《超体》中的Lucy', 'attribute': 0, 'arc': {'aid': 92849660, 'videos': 0, 'type_id': 0, 'type_name': '', 'copyright': 0, 'pic': 'http://i2.hdslb.com/bfs/archive/aa1a5414be639378cdc16a39d0a210d27adf483b.jpg', 'title': '人类能否造出《超体》中的Lucy', 'pubdate': 1583066315, 'ctime': 1583066315, 'desc': '', 'state': 0, 'duration': 405, 'rights': {'bp': 0, 'elec': 0, 'download': 0, 'movie': 0, 'pay': 0, 'hd5': 0, 'no_reprint': 0, 'autoplay': 0, 'ugc_pay': 0, 'is_cooperation': 0, 'ugc_pay_preview': 0, 'arc_pay': 0, 'free_watch': 0}, 'author': {'mid': 0, 'name': '', 'face': ''}, 'stat': {'aid': 92849660, 'view': 48889, 'danmaku': 139, 'reply': 83, 'fav': 683, 'coin': 589, 'share': 93, 'now_rank': 0, 'his_rank': 0, 'like': 1670, 'dislike': 0, 'evaluation': '', 'argue_msg': ''}, 'dynamic': '', 'dimension': {'width': 0, 'height': 0, 'rotate': 0}, 'desc_v2': None, 'is_chargeable_season': False}, 'page': {'cid': 158524379, 'page': 1, 'from': 'vupload', 'part': 'Capture_3', 'duration': 405, 'vid': '', 'weblink': '', 'dimension': {'width': 1216, 'height': 696, 'rotate': 0}}, 'bvid': 'BV1XE411772c'}, {'season_id': 471, 'section_id': 837, 'id': 12058, 'aid': 80135853, 'cid': 144320691, 'title': '为什么说21世纪是AI的世纪？', 'attribute': 0, 'arc': {'aid': 80135853, 'videos': 0, 'type_id': 0, 'type_name': '', 'copyright': 0, 'pic': 'http://i0.hdslb.com/bfs/archive/68a87c05a2241116ab811fcbb907e60532ac3adf.jpg', 'title': '为什么说21世纪是AI的世纪？', 'pubdate': 1576948168, 'ctime': 1576948168, 'desc': '', 'state': 0, 'duration': 487, 'rights': {'bp': 0, 'elec': 0, 'download': 0, 'movie': 0, 'pay': 0, 'hd5': 0, 'no_reprint': 0, 'autoplay': 0, 'ugc_pay': 0, 'is_cooperation': 0, 'ugc_pay_preview': 0, 'arc_pay': 0, 'free_watch': 0}, 'author': {'mid': 0, 'name': '', 'face': ''}, 'stat': {'aid': 80135853, 'view': 44838, 'danmaku': 89, 'reply': 94, 'fav': 715, 'coin': 867, 'share': 121, 'now_rank': 0, 'his_rank': 0, 'like': 1815, 'dislike': 0, 'evaluation': '', 'argue_msg': ''}, 'dynamic': '', 'dimension': {'width': 0, 'height': 0, 'rotate': 0}, 'desc_v2': None, 'is_chargeable_season': False}, 'page': {'cid': 144320691, 'page': 1, 'from': 'vupload', 'part': '第0期', 'duration': 487, 'vid': '', 'weblink': '', 'dimension': {'width': 1920, 'height': 1080, 'rotate': 0}}, 'bvid': 'BV1WJ41147VM'}, {'season_id': 471, 'section_id': 837, 'id': 12059, 'aid': 669847658, 'cid': 240748501, 'title': '我训练了一个会写高考作文的人工智能', 'attribute': 0, 'arc': {'aid': 669847658, 'videos': 0, 'type_id': 0, 'type_name': '', 'copyright': 0, 'pic': 'http://i0.hdslb.com/bfs/archive/a1ec3e387e5acae8c81d0d0fd8566c8811810ac1.jpg', 'title': '我训练了一个会写高考作文的人工智能', 'pubdate': 1601528959, 'ctime': 1601528959, 'desc': '', 'state': 0, 'duration': 490, 'rights': {'bp': 0, 'elec': 0, 'download': 0, 'movie': 0, 'pay': 0, 'hd5': 0, 'no_reprint': 0, 'autoplay': 0, 'ugc_pay': 0, 'is_cooperation': 0, 'ugc_pay_preview': 0, 'arc_pay': 0, 'free_watch': 0}, 'author': {'mid': 0, 'name': '', 'face': ''}, 'stat': {'aid': 669847658, 'view': 342344, 'danmaku': 1975, 'reply': 1280, 'fav': 14847, 'coin': 19760, 'share': 3977, 'now_rank': 0, 'his_rank': 0, 'like': 27009, 'dislike': 0, 'evaluation': '', 'argue_msg': ''}, 'dynamic': '', 'dimension': {'width': 0, 'height': 0, 'rotate': 0}, 'desc_v2': None, 'is_chargeable_season': False}, 'page': {'cid': 240748501, 'page': 1, 'from': 'vupload', 'part': '第0期-无版权', 'duration': 490, 'vid': '', 'weblink': '', 'dimension': {'width': 1920, 'height': 1080, 'rotate': 0}}, 'bvid': 'BV1oa4y157LL'}, {'season_id': 471, 'section_id': 837, 'id': 12060, 'aid': 285508087, 'cid': 187339281, 'title': '后浪青年说', 'attribute': 0, 'arc': {'aid': 285508087, 'videos': 0, 'type_id': 0, 'type_name': '', 'copyright': 0, 'pic': 'http://i2.hdslb.com/bfs/archive/f9b1beb4c407a803401b38cbedb6b37d2cde5544.jpg', 'title': '后浪青年说', 'pubdate': 1588677533, 'ctime': 1588677533, 'desc': '', 'state': 0, 'duration': 334, 'rights': {'bp': 0, 'elec': 0, 'download': 0, 'movie': 0, 'pay': 0, 'hd5': 0, 'no_reprint': 0, 'autoplay': 0, 'ugc_pay': 0, 'is_cooperation': 0, 'ugc_pay_preview': 0, 'arc_pay': 0, 'free_watch': 0}, 'author': {'mid': 0, 'name': '', 'face': ''}, 'stat': {'aid': 285508087, 'view': 62347, 'danmaku': 434, 'reply': 303, 'fav': 1244, 'coin': 3262, 'share': 454, 'now_rank': 0, 'his_rank': 0, 'like': 5423, 'dislike': 0, 'evaluation': '', 'argue_msg': ''}, 'dynamic': '', 'dimension': {'width': 0, 'height': 0, 'rotate': 0}, 'desc_v2': None, 'is_chargeable_season': False}, 'page': {'cid': 187339281, 'page': 1, 'from': 'vupload', 'part': '写给B站的一封信', 'duration': 334, 'vid': '', 'weblink': '', 'dimension': {'width': 1920, 'height': 1080, 'rotate': 0}}, 'bvid': 'BV1tf4y1m7Dz'}]}], 'stat': {'season_id': 471, 'view': 8928064, 'danmaku': 60348, 'reply': 36539, 'fav': 532124, 'coin': 416521, 'share': 107249, 'now_rank': 0, 'his_rank': 0, 'like': 639644}, 'ep_count': 23, 'season_type': 1, 'is_pay_season': False}\n"
     ]
    },
    {
     "data": {
      "text/plain": [
       "[734378777,\n",
       " 579076314,\n",
       " 479636323,\n",
       " 331846482,\n",
       " 263578617,\n",
       " 249390460,\n",
       " 253692070,\n",
       " 154733289,\n",
       " 143501561,\n",
       " 179476633,\n",
       " 197630858,\n",
       " 192073132,\n",
       " 173108527,\n",
       " 147019067,\n",
       " 203920154,\n",
       " 200437748,\n",
       " 179440149,\n",
       " 167541159,\n",
       " 160598529,\n",
       " 158524379,\n",
       " 144320691,\n",
       " 240748501,\n",
       " 187339281]"
      ]
     },
     "execution_count": 10,
     "metadata": {},
     "output_type": "execute_result"
    }
   ],
   "source": [
    "get_cid(\"BV1j34y177Wz\")\n"
   ]
  },
  {
   "cell_type": "code",
   "execution_count": null,
   "metadata": {},
   "outputs": [],
   "source": []
  }
 ],
 "metadata": {
  "interpreter": {
   "hash": "6c6381d5d0317fe08758c22b764cbe000025b26b6e44f9ebdbf1b47c70e5db0f"
  },
  "kernelspec": {
   "display_name": "Python 3.9.7 64-bit",
   "language": "python",
   "name": "python3"
  },
  "language_info": {
   "codemirror_mode": {
    "name": "ipython",
    "version": 3
   },
   "file_extension": ".py",
   "mimetype": "text/x-python",
   "name": "python",
   "nbconvert_exporter": "python",
   "pygments_lexer": "ipython3",
   "version": "3.9.7"
  },
  "orig_nbformat": 4
 },
 "nbformat": 4,
 "nbformat_minor": 2
}
